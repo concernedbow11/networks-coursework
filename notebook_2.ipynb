{
 "cells": [
  {
   "attachments": {},
   "cell_type": "markdown",
   "metadata": {},
   "source": [
    "### Import the necessary libraries"
   ]
  },
  {
   "cell_type": "code",
   "execution_count": 27,
   "metadata": {},
   "outputs": [],
   "source": [
    "import networkx as nx\n",
    "import matplotlib.pyplot as plt\n",
    "import numpy as np\n",
    "import pandas as pd"
   ]
  },
  {
   "attachments": {},
   "cell_type": "markdown",
   "metadata": {},
   "source": [
    "### Load data from the csv files"
   ]
  },
  {
   "cell_type": "code",
   "execution_count": 28,
   "metadata": {},
   "outputs": [],
   "source": [
    "interbankExposure = pd.read_csv('interbankExposures.csv', header=None)\n",
    "bankEquities = pd.read_csv('bankEquities.csv', header=None)\n",
    "bank_asset_weighted_network = pd.read_csv('bankAssetWeightedNetwork.csv', header=None)\n"
   ]
  },
  {
   "attachments": {},
   "cell_type": "markdown",
   "metadata": {},
   "source": [
    "### Create a directed graph from the dataset"
   ]
  },
  {
   "cell_type": "code",
   "execution_count": 29,
   "metadata": {},
   "outputs": [],
   "source": [
    "G = nx.DiGraph(interbankExposure.values)"
   ]
  },
  {
   "attachments": {},
   "cell_type": "markdown",
   "metadata": {},
   "source": [
    "### Calculate the number of nodes in the graph and the in-degree and out-degree of each node"
   ]
  },
  {
   "cell_type": "code",
   "execution_count": 30,
   "metadata": {},
   "outputs": [
    {
     "name": "stdout",
     "output_type": "stream",
     "text": [
      "[0, 1, 1, 119, 32, 20, 60, 113, 24, 26, 32, 40, 37, 87, 14, 29, 6, 39, 38, 26, 49, 41, 45, 0, 62, 11, 10, 102, 20, 86, 0, 74, 32, 41, 93, 27, 35, 29, 2, 114, 21, 2, 7, 34, 9, 59, 11, 84, 86, 12, 63, 55, 47, 73, 101, 50, 9, 6, 23, 98, 85, 39, 89, 16, 41, 40, 1, 55, 54, 1, 15, 74, 102, 38, 11, 0, 34, 46, 75, 105, 34, 3, 116, 115, 45, 94, 68, 33, 32, 2, 32, 14, 47, 52, 18, 50, 31, 34, 88, 24, 38, 40, 36, 23, 55, 45, 18, 0, 40, 71, 25, 56, 29, 25, 41, 20, 97, 0, 12, 12, 104, 22, 110, 22, 35, 53, 9, 46, 120, 58, 21, 68, 37, 17, 7, 8, 57, 13, 58, 1, 95, 106, 23, 23, 75]\n",
      "[16, 1, 4, 98, 13, 28, 77, 101, 22, 19, 19, 14, 27, 80, 28, 26, 2, 34, 40, 13, 78, 51, 20, 2, 32, 36, 31, 114, 26, 63, 11, 97, 36, 27, 84, 4, 43, 48, 1, 100, 29, 5, 10, 58, 15, 60, 38, 65, 76, 3, 38, 32, 18, 26, 95, 21, 12, 12, 35, 106, 91, 54, 78, 29, 15, 52, 29, 60, 42, 71, 16, 63, 107, 44, 10, 11, 48, 13, 79, 88, 46, 8, 125, 94, 35, 95, 82, 41, 55, 16, 12, 35, 33, 73, 11, 41, 43, 40, 84, 44, 46, 26, 51, 30, 30, 14, 36, 5, 61, 70, 51, 62, 9, 13, 7, 33, 92, 14, 26, 18, 95, 31, 104, 21, 43, 9, 15, 22, 105, 56, 29, 37, 40, 25, 15, 9, 106, 13, 26, 6, 105, 103, 16, 51, 82]\n"
     ]
    }
   ],
   "source": [
    "nnodes = G.number_of_nodes()  # 145\n",
    "out_degrees = [G.out_degree(n) for n in G.nodes()]\n",
    "in_degrees = [G.in_degree(n) for n in G.nodes()]\n",
    "print(out_degrees)\n",
    "print(in_degrees)\n"
   ]
  },
  {
   "attachments": {},
   "cell_type": "markdown",
   "metadata": {},
   "source": [
    "### Compute the in degrees for each node (Interbank assets)"
   ]
  },
  {
   "cell_type": "code",
   "execution_count": 31,
   "metadata": {},
   "outputs": [],
   "source": [
    "in_Degree = pd.DataFrame(G.in_degree(weight='weight'))\n",
    "in_Degree = in_Degree.T\n"
   ]
  },
  {
   "cell_type": "code",
   "execution_count": 32,
   "metadata": {},
   "outputs": [
    {
     "name": "stdout",
     "output_type": "stream",
     "text": [
      "0        538218.69\n",
      "1          7351.70\n",
      "2         39050.70\n",
      "3      85674483.00\n",
      "4        460659.54\n",
      "          ...     \n",
      "140    75172808.00\n",
      "141    71611906.00\n",
      "142      303785.69\n",
      "143     3836714.30\n",
      "144    21025428.60\n",
      "Name: 1, Length: 145, dtype: float64\n"
     ]
    }
   ],
   "source": [
    "print(in_Degree.loc[1])"
   ]
  },
  {
   "attachments": {},
   "cell_type": "markdown",
   "metadata": {},
   "source": [
    "### Compute the out degrees for each node (Interbank Liabilities)"
   ]
  },
  {
   "cell_type": "code",
   "execution_count": 33,
   "metadata": {},
   "outputs": [],
   "source": [
    "out_Degree = pd.DataFrame(G.out_degree(weight='weight'))\n",
    "out_Degree = out_Degree.T\n"
   ]
  },
  {
   "cell_type": "code",
   "execution_count": 34,
   "metadata": {},
   "outputs": [
    {
     "name": "stdout",
     "output_type": "stream",
     "text": [
      "0      0.000000e+00\n",
      "1      2.302500e+04\n",
      "2      2.353800e+04\n",
      "3      1.771697e+08\n",
      "4      1.084775e+06\n",
      "           ...     \n",
      "140    4.305915e+07\n",
      "141    1.015331e+08\n",
      "142    5.896638e+05\n",
      "143    7.209214e+05\n",
      "144    2.440614e+07\n",
      "Name: 1, Length: 145, dtype: float64\n"
     ]
    }
   ],
   "source": [
    "print(out_Degree.loc[1])"
   ]
  },
  {
   "cell_type": "code",
   "execution_count": 35,
   "metadata": {},
   "outputs": [
    {
     "name": "stdout",
     "output_type": "stream",
     "text": [
      "0        465710.0\n",
      "1          4436.7\n",
      "2         13159.0\n",
      "3      16229000.0\n",
      "4        438420.0\n",
      "          ...    \n",
      "140    11382000.0\n",
      "141    14033000.0\n",
      "142      129430.0\n",
      "143      874880.0\n",
      "144    26855000.0\n",
      "Name: 0, Length: 145, dtype: float64\n"
     ]
    }
   ],
   "source": [
    "print(bankEquities.loc[0])"
   ]
  },
  {
   "attachments": {},
   "cell_type": "markdown",
   "metadata": {},
   "source": [
    "### Calculate the external liabilties for each bank"
   ]
  },
  {
   "cell_type": "code",
   "execution_count": 36,
   "metadata": {},
   "outputs": [
    {
     "name": "stdout",
     "output_type": "stream",
     "text": [
      "0        2154600.0\n",
      "1          29473.2\n",
      "2         156460.0\n",
      "3      343060000.0\n",
      "4        1846500.0\n",
      "          ...     \n",
      "140    301110000.0\n",
      "141    286542000.0\n",
      "142      1215600.0\n",
      "143     15375200.0\n",
      "144     84110000.0\n",
      "Name: 0, Length: 145, dtype: object\n"
     ]
    }
   ],
   "source": [
    "# Create a new dataframe to store the sum of bank asset weighted network for each bank\n",
    "bank_asset_weighted_network_sum = pd.DataFrame(index=range(1), columns=range(145))\n",
    "\n",
    "#store the sum of each row in the bank_asset_weighted_network_sum dataframe\n",
    "for i in range(145):\n",
    "    bank_asset_weighted_network_sum.loc[0,i] = bank_asset_weighted_network.loc[i].sum()\n",
    "print(bank_asset_weighted_network_sum.loc[0])"
   ]
  },
  {
   "cell_type": "code",
   "execution_count": 37,
   "metadata": {},
   "outputs": [],
   "source": [
    "# External_liability = in degree - out_degree - bankEquities + bank_asset_weighted_network\n",
    "\n",
    "external_liability = pd.DataFrame(index=range(1), columns=range(145))\n",
    "external_liability = external_liability.sub(bankEquities, fill_value=0)\n",
    "external_liability = pd.DataFrame(external_liability.loc[0] + in_Degree.loc[1])\n",
    "external_liability = pd.DataFrame(external_liability[0] - out_Degree.loc[1])\n",
    "external_liability = pd.DataFrame(external_liability[0] + bank_asset_weighted_network_sum.loc[0])\n",
    "external_liability = external_liability.T"
   ]
  },
  {
   "cell_type": "code",
   "execution_count": 38,
   "metadata": {},
   "outputs": [
    {
     "name": "stdout",
     "output_type": "stream",
     "text": [
      "          0       1         2            3          4           5    \\\n",
      "0  2227108.69  9363.2  158813.7  235335740.5  783964.75  5038396.01   \n",
      "\n",
      "          6            7          8           9    ...        135  \\\n",
      "0  63046713.8  309464391.0  2691916.1  1461887.76  ...  447075.82   \n",
      "\n",
      "           136        137         138       139          140          141  \\\n",
      "0  409762299.9  402529.62 -4821777.76  511817.8  321841655.7  242587818.0   \n",
      "\n",
      "         142          143         144  \n",
      "0  800291.94  17616112.88  53874287.9  \n",
      "\n",
      "[1 rows x 145 columns]\n"
     ]
    }
   ],
   "source": [
    "#print the external liability of each bank\n",
    "print(external_liability)\n"
   ]
  },
  {
   "attachments": {},
   "cell_type": "markdown",
   "metadata": {},
   "source": [
    "### Separate banks that are not defaulted and defaulted based on their external liabilities:"
   ]
  },
  {
   "cell_type": "code",
   "execution_count": 39,
   "metadata": {},
   "outputs": [],
   "source": [
    "notdefaulted_external_liability = external_liability[external_liability[:] > 0].dropna(axis=1)\n",
    "defaulted_external_liability = external_liability[external_liability[:] <= 0].dropna(axis=1)\n"
   ]
  },
  {
   "cell_type": "code",
   "execution_count": 40,
   "metadata": {},
   "outputs": [
    {
     "name": "stdout",
     "output_type": "stream",
     "text": [
      "        10         11         22         24         35        49          52   \\\n",
      "0 -34248.07 -2847008.5 -2357571.7 -3113241.5 -1254726.8 -152828.5 -2847489.83   \n",
      "\n",
      "           53          64         77         90         92          98   \\\n",
      "0 -20651114.12 -3169533.98 -4997230.3 -767637.95 -1721770.7 -44793083.3   \n",
      "\n",
      "         105        114        125        127         138  \n",
      "0 -4015387.3 -1514734.5 -6645151.5 -1494865.7 -4821777.76  \n"
     ]
    }
   ],
   "source": [
    "print(defaulted_external_liability)"
   ]
  },
  {
   "attachments": {},
   "cell_type": "markdown",
   "metadata": {},
   "source": [
    "### Apply the shocks"
   ]
  },
  {
   "cell_type": "code",
   "execution_count": 41,
   "metadata": {},
   "outputs": [],
   "source": [
    "initial_bank_equities = bankEquities.copy() # Save the initial bank equities to calculate the losses later\n",
    "shock = 10000000\n",
    "\n",
    "\n",
    "for i in bankEquities:\n",
    "    bankEquities[i] = bankEquities[i] - shock"
   ]
  },
  {
   "attachments": {},
   "cell_type": "markdown",
   "metadata": {},
   "source": [
    "### Separate non-defaulters and defaulters based on their equities:"
   ]
  },
  {
   "cell_type": "code",
   "execution_count": 42,
   "metadata": {},
   "outputs": [],
   "source": [
    "notdefaulters = bankEquities[bankEquities.iloc[0:] > 0]\n",
    "notdefaulters = notdefaulters.dropna(axis=1)\n",
    "defaulters = bankEquities[bankEquities.iloc[0:] <= 0]\n",
    "defaulters = defaulters.dropna(axis=1)"
   ]
  },
  {
   "attachments": {},
   "cell_type": "markdown",
   "metadata": {},
   "source": [
    "### ignore below cell"
   ]
  },
  {
   "attachments": {},
   "cell_type": "markdown",
   "metadata": {},
   "source": [
    "Separate the bank assets of non-defaulted and defaulted banks and calculate the ratio of the sum of the bank assets of non-defaulted banks to the sum of all banks' external assets. This ratio represents the fraction of the total bank assets that remain in the system after accounting for the defaulted banks."
   ]
  },
  {
   "cell_type": "code",
   "execution_count": 43,
   "metadata": {},
   "outputs": [
    {
     "name": "stdout",
     "output_type": "stream",
     "text": [
      "0      1.000000\n",
      "1      0.833333\n",
      "2      1.000000\n",
      "3      1.000000\n",
      "4      1.000000\n",
      "         ...   \n",
      "140    1.000000\n",
      "141    1.000000\n",
      "142    0.750000\n",
      "143    0.750000\n",
      "144    1.000000\n",
      "Length: 145, dtype: float64\n"
     ]
    }
   ],
   "source": [
    "notdefaulted_external_asset = bank_asset_weighted_network.reindex(notdefaulters.index, axis=1)\n",
    "defaulter_external_assets = bank_asset_weighted_network.reindex(defaulters.index, axis=1)\n",
    "ratio = 1 - (defaulter_external_assets.sum(axis=1) / bank_asset_weighted_network.sum(axis=1))\n",
    "print(ratio)"
   ]
  },
  {
   "attachments": {},
   "cell_type": "markdown",
   "metadata": {},
   "source": [
    "### Initialize new dataframes for intermediate calculations and updated values in the Furfine function."
   ]
  },
  {
   "cell_type": "code",
   "execution_count": 44,
   "metadata": {},
   "outputs": [],
   "source": [
    "newBankEquity = pd.DataFrame(index=range(1), columns=range(145))\n",
    "newbanklist = pd.DataFrame(index=range(1), columns=range(145))\n",
    "defaulteroutDegree = pd.DataFrame(index=range(1), columns=range(145))\n",
    "notdefaulted_external_asset = pd.DataFrame(index=range(1), columns=range(145))"
   ]
  },
  {
   "attachments": {},
   "cell_type": "markdown",
   "metadata": {},
   "source": [
    "### Subtract non-defaulted external liabilities, and add non-defaulted external assets"
   ]
  },
  {
   "cell_type": "code",
   "execution_count": 45,
   "metadata": {},
   "outputs": [],
   "source": [
    "newBankEquity = newBankEquity.sub(notdefaulted_external_liability, fill_value=0)\n",
    "newBankEquity = newBankEquity.add(notdefaulted_external_asset, fill_value=0)"
   ]
  },
  {
   "cell_type": "code",
   "execution_count": 46,
   "metadata": {},
   "outputs": [
    {
     "data": {
      "text/plain": [
       "pandas.core.frame.DataFrame"
      ]
     },
     "execution_count": 46,
     "metadata": {},
     "output_type": "execute_result"
    }
   ],
   "source": [
    "type(bank_asset_weighted_network)"
   ]
  },
  {
   "attachments": {},
   "cell_type": "markdown",
   "metadata": {},
   "source": [
    "### Define the furfine function"
   ]
  },
  {
   "cell_type": "code",
   "execution_count": 47,
   "metadata": {},
   "outputs": [],
   "source": [
    "def furfine(defaulters, notdefaulters, newBankEquity, newbanklist, defaulteroutDegree, interbankExposure, out_Degree, bank_asset_weighted_network, recovery_rate):\n",
    "    notdefaulters_inDegree = in_Degree.reindex(notdefaulters.columns, axis=1)\n",
    "    notdefaulters_outDegree = out_Degree.reindex(notdefaulters.columns, axis=1)\n",
    "\n",
    "    for i in defaulters:\n",
    "        sumDebt = sum(interbankExposure.loc[i, 0:])\n",
    "        recovered = sumDebt * recovery_rate\n",
    "        defaulted_bank_exposures = interbankExposure.iloc[i, :]\n",
    "        interbankExposure.iloc[i] = defaulted_bank_exposures * (1 - recovery_rate)\n",
    "        defaulteroutDegree.at[i, 0] = sumDebt - recovered\n",
    "        \n",
    "        defaulted_bank_assets = bank_asset_weighted_network.loc[i, :]\n",
    "        bank_asset_weighted_network.loc[i, :] = defaulted_bank_assets * (1 - recovery_rate)\n",
    "\n",
    "    newBankEquity = newBankEquity.sub(defaulteroutDegree, fill_value=0)\n",
    "    newBankEquity = pd.DataFrame(\n",
    "        notdefaulters_inDegree.loc[1] + newBankEquity.loc[0])\n",
    "    newBankEquity = pd.DataFrame(\n",
    "        newBankEquity[0] - notdefaulters_outDegree.loc[1]).T\n",
    "    newbanklist = newBankEquity[newBankEquity[:] > 0].dropna(axis=1)\n",
    "\n",
    "    lenDefaulter = len(newBankEquity[newBankEquity[:] <= 0].dropna(axis=1))\n",
    "    if len(defaulters) == lenDefaulter:\n",
    "        return notdefaulters\n",
    "    else:\n",
    "        newBankEquity = newbanklist\n",
    "        defaulters = newBankEquity[newBankEquity[:] <= 0].dropna(axis=0)\n",
    "        notdefaulters = newBankEquity[newBankEquity[:] > 0].dropna(axis=0)\n",
    "        return furfine(defaulters, notdefaulters, newBankEquity, newbanklist, defaulteroutDegree, interbankExposure, out_Degree, bank_asset_weighted_network)\n"
   ]
  },
  {
   "cell_type": "markdown",
   "metadata": {},
   "source": [
    "### Define a recovery rate"
   ]
  },
  {
   "cell_type": "code",
   "execution_count": 48,
   "metadata": {},
   "outputs": [],
   "source": [
    "recovery_rate = 0.5  # 0.5 = 50% recovery rate"
   ]
  },
  {
   "attachments": {},
   "cell_type": "markdown",
   "metadata": {},
   "source": [
    "### Call the furfine function"
   ]
  },
  {
   "cell_type": "code",
   "execution_count": 49,
   "metadata": {},
   "outputs": [
    {
     "name": "stdout",
     "output_type": "stream",
     "text": [
      "         3          7           27         34          39          48   \\\n",
      "0  6229000.0  4267000.0  37698000.0  2562000.0  53616000.0  47097000.0   \n",
      "\n",
      "        53          54          59        60   ...        83          85   \\\n",
      "0  652000.0  24554000.0  53308000.0  804000.0  ...  8116000.0  18605000.0   \n",
      "\n",
      "           98         116         122         128         136        140  \\\n",
      "0  158110000.0  7556000.0  36551000.0  17495000.0  22123000.0  1382000.0   \n",
      "\n",
      "         141         144  \n",
      "0  4033000.0  16855000.0  \n",
      "\n",
      "[1 rows x 24 columns]\n",
      "The number of banks that have not defaulted are: \n",
      "24\n"
     ]
    }
   ],
   "source": [
    "\n",
    "x = furfine(defaulters, notdefaulters, newBankEquity, newbanklist, defaulteroutDegree, interbankExposure, out_Degree, bank_asset_weighted_network, recovery_rate)\n",
    "\n",
    "print(x)\n",
    "\n",
    "#print the number of banks that have not defaulted\n",
    "print(\"The number of banks that have not defaulted are: \")\n",
    "print(len(x.columns))"
   ]
  },
  {
   "attachments": {},
   "cell_type": "markdown",
   "metadata": {},
   "source": [
    "### Caculate the losses"
   ]
  },
  {
   "cell_type": "code",
   "execution_count": 50,
   "metadata": {},
   "outputs": [
    {
     "name": "stdout",
     "output_type": "stream",
     "text": [
      "Initial Bank Equities: \n",
      "        0       1      2           3         4         5          6    \\\n",
      "0  465710.0  4436.7  13159  16229000.0  438420.0  271300.0  7572800.0   \n",
      "\n",
      "          7      8         9    ...    135         136       137       138  \\\n",
      "0  14267000.0  99580  178320.0  ...  32812  32123000.0  699090.0  515310.0   \n",
      "\n",
      "     139         140         141       142       143         144  \n",
      "0  14259  11382000.0  14033000.0  129430.0  874880.0  26855000.0  \n",
      "\n",
      "[1 rows x 145 columns]\n",
      "Final Bank Equities: \n",
      "   0    1    2          3    4    5    6          7    8    9    ...  135  \\\n",
      "0    0    0    0  6229000.0    0    0    0  4267000.0    0    0  ...    0   \n",
      "\n",
      "          136  137  138  139        140        141  142  143         144  \n",
      "0  22123000.0    0    0    0  1382000.0  4033000.0    0    0  16855000.0  \n",
      "\n",
      "[1 rows x 145 columns]\n"
     ]
    }
   ],
   "source": [
    "\n",
    "final_bank_equities = pd.DataFrame(index=range(1), columns=range(145))\n",
    "\n",
    "final_bank_equities.update(x)\n",
    "final_bank_equities.fillna(0, inplace=True)\n",
    "\n",
    "\n",
    "print(\"Initial Bank Equities: \")\n",
    "print(initial_bank_equities)\n",
    "print(\"Final Bank Equities: \")\n",
    "print(final_bank_equities)"
   ]
  },
  {
   "cell_type": "code",
   "execution_count": 51,
   "metadata": {},
   "outputs": [
    {
     "name": "stdout",
     "output_type": "stream",
     "text": [
      "Number of Defaults: 121\n",
      "Percentage Change in Equity Values for Non-Defaults:\n",
      "3     -0.616181\n",
      "7     -0.700918\n",
      "27    -0.209652\n",
      "34    -0.796052\n",
      "39    -0.157193\n",
      "48    -0.175141\n",
      "53    -0.938791\n",
      "54    -0.289402\n",
      "59    -0.157958\n",
      "60    -0.925583\n",
      "72    -0.564111\n",
      "78    -0.585343\n",
      "79    -0.970309\n",
      "82    -0.091617\n",
      "83    -0.551998\n",
      "85    -0.349589\n",
      "98    -0.059485\n",
      "116   -0.569606\n",
      "122   -0.214818\n",
      "128   -0.363702\n",
      "136   -0.311303\n",
      "140   -0.878580\n",
      "141   -0.712606\n",
      "144   -0.372370\n",
      "dtype: float64\n"
     ]
    }
   ],
   "source": [
    "#Compute number of defaults\n",
    "# defaults are the banks with final equity values <= 0\n",
    "defaults = final_bank_equities[final_bank_equities.iloc[0:] <= 0].dropna(axis=1)\n",
    "num_defaults = len(defaults.columns)\n",
    "print(\"Number of Defaults:\", num_defaults)\n",
    "    \n",
    "#Compute contagion effects on other banks\n",
    "non_defaults = final_bank_equities[final_bank_equities.iloc[0:] > 0].dropna(axis=1)\n",
    "pct_change = (non_defaults.sum() - initial_bank_equities[initial_bank_equities > 0].sum()) / initial_bank_equities[initial_bank_equities > 0].sum()\n",
    "print(\"Percentage Change in Equity Values for Non-Defaults:\")\n",
    "print(pct_change[pct_change.dropna().index])"
   ]
  },
  {
   "attachments": {},
   "cell_type": "markdown",
   "metadata": {},
   "source": [
    "### For task 3, we simultaneously consider overlapping portfolios along with counterparty defaults. "
   ]
  },
  {
   "cell_type": "code",
   "execution_count": 62,
   "metadata": {},
   "outputs": [
    {
     "name": "stdout",
     "output_type": "stream",
     "text": [
      "Task 2 results:\n",
      "         3          7           27         34          39          48   \\\n",
      "0  6229000.0  4267000.0  37698000.0  2562000.0  53616000.0  47097000.0   \n",
      "\n",
      "        53          54          59        60   ...        83          85   \\\n",
      "0  652000.0  24554000.0  53308000.0  804000.0  ...  8116000.0  18605000.0   \n",
      "\n",
      "           98         116         122         128         136        140  \\\n",
      "0  158110000.0  7556000.0  36551000.0  17495000.0  22123000.0  1382000.0   \n",
      "\n",
      "         141         144  \n",
      "0  4033000.0  16855000.0  \n",
      "\n",
      "[1 rows x 24 columns]\n",
      "Task 3 results:\n",
      "         3          7           27         34          39          48   \\\n",
      "0  6229000.0  4267000.0  37698000.0  2562000.0  53616000.0  47097000.0   \n",
      "\n",
      "        53          54          59        60   ...        83          85   \\\n",
      "0  652000.0  24554000.0  53308000.0  804000.0  ...  8116000.0  18605000.0   \n",
      "\n",
      "           98         116         122         128         136        140  \\\n",
      "0  158110000.0  7556000.0  36551000.0  17495000.0  22123000.0  1382000.0   \n",
      "\n",
      "         141         144  \n",
      "0  4033000.0  16855000.0  \n",
      "\n",
      "[1 rows x 24 columns]\n"
     ]
    }
   ],
   "source": [
    "# Helper function to calculate the fraction of asset i owned by banks that have defaulted\n",
    "def calculate_qi(asset_ownership, defaulted_banks):\n",
    "    total_owned_by_defaulted_banks = asset_ownership.loc[asset_ownership.index.isin(defaulted_banks)].sum(axis=0)\n",
    "    total_owned_by_all_banks = asset_ownership.sum(axis=0)\n",
    "    qi = total_owned_by_defaulted_banks / total_owned_by_all_banks\n",
    "    return qi\n",
    "\n",
    "# Helper function to calculate the linear devaluation of assets\n",
    "def linear_devaluation(asset_prices, qi, a):\n",
    "    new_asset_prices = asset_prices * (1 - a * qi)\n",
    "    return new_asset_prices\n",
    "\n",
    "\n",
    "# Modify the Furfine algorithm function to include the effect of overlapping portfolios\n",
    "def furfine_with_overlapping_portfolios(defaulters, notdefaulters, newBankEquity, newbanklist, defaulteroutDegree, interbankExposure, out_Degree, recovery_rate, bank_asset_weighted_network, a):\n",
    "    # Calculate the fraction of asset i owned by banks that have defaulted\n",
    "    qi = calculate_qi(bank_asset_weighted_network, defaulters.columns)\n",
    "    \n",
    "    # Update the asset prices based on the linear devaluation function\n",
    "    asset_prices = linear_devaluation(np.ones(len(qi)), qi, a)\n",
    "    \n",
    "    # Update the bank's asset values based on the new asset prices\n",
    "    updated_bank_asset_values = bank_asset_weighted_network.mul(asset_prices, axis=0)\n",
    "    \n",
    "    # Replace the existing Furfine algorithm implementation with the new one that incorporates the effect of overlapping portfolios\n",
    "    return furfine(defaulters, notdefaulters, newBankEquity, newbanklist, defaulteroutDegree, interbankExposure, out_Degree, updated_bank_asset_values, recovery_rate)\n",
    "\n",
    "\n",
    "# Define the market impact parameter a\n",
    "a = 0.5  \n",
    "\n",
    "# Perform stress tests using the modified Furfine algorithm with the same initial shock scenarios as in Task 2\n",
    "x_task3 = furfine_with_overlapping_portfolios(defaulters, notdefaulters, newBankEquity, newbanklist, defaulteroutDegree, interbankExposure, out_Degree, recovery_rate, bank_asset_weighted_network, a)\n",
    "\n",
    "# Compare the results of these stress tests with those obtained using the Furfine algorithm in Task 2\n",
    "print(\"Task 2 results:\")\n",
    "print(x)\n",
    "print(\"Task 3 results:\")\n",
    "print(x_task3)\n",
    "\n",
    "# Compute the differences between the results of Task 2 and Task 3\n",
    "equity_difference = x_task3.subtract(x, fill_value=0)\n",
    "print(\"Equity differences between Task 2 and Task 3:\")\n",
    "print(equity_difference)\n"
   ]
  }
 ],
 "metadata": {
  "kernelspec": {
   "display_name": "dsenv",
   "language": "python",
   "name": "python3"
  },
  "language_info": {
   "codemirror_mode": {
    "name": "ipython",
    "version": 3
   },
   "file_extension": ".py",
   "mimetype": "text/x-python",
   "name": "python",
   "nbconvert_exporter": "python",
   "pygments_lexer": "ipython3",
   "version": "3.9.16"
  },
  "orig_nbformat": 4
 },
 "nbformat": 4,
 "nbformat_minor": 2
}
