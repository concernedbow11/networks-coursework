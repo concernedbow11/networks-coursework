{
 "cells": [
  {
   "attachments": {},
   "cell_type": "markdown",
   "metadata": {},
   "source": [
    "### Import the necessary libraries"
   ]
  },
  {
   "cell_type": "code",
   "execution_count": 1,
   "metadata": {},
   "outputs": [],
   "source": [
    "import networkx as nx\n",
    "import matplotlib.pyplot as plt\n",
    "import numpy as np\n",
    "import pandas as pd"
   ]
  },
  {
   "attachments": {},
   "cell_type": "markdown",
   "metadata": {},
   "source": [
    "### Load data from the csv files"
   ]
  },
  {
   "cell_type": "code",
   "execution_count": 2,
   "metadata": {},
   "outputs": [],
   "source": [
    "interbankExposure = pd.read_csv('interbankExposures.csv', header=None)\n",
    "bankEquities = pd.read_csv('bankEquities.csv', header=None)\n",
    "bank_asset_weighted_network = pd.read_csv('bankAssetWeightedNetwork.csv', header=None)\n"
   ]
  },
  {
   "attachments": {},
   "cell_type": "markdown",
   "metadata": {},
   "source": [
    "### Create a directed graph from the dataset"
   ]
  },
  {
   "cell_type": "code",
   "execution_count": 3,
   "metadata": {},
   "outputs": [],
   "source": [
    "G = nx.DiGraph(interbankExposure.values)"
   ]
  },
  {
   "attachments": {},
   "cell_type": "markdown",
   "metadata": {},
   "source": [
    "### Calculate the number of nodes in the graph and the in-degree and out-degree of each node"
   ]
  },
  {
   "cell_type": "code",
   "execution_count": 4,
   "metadata": {},
   "outputs": [
    {
     "name": "stdout",
     "output_type": "stream",
     "text": [
      "[0, 1, 1, 119, 32, 20, 60, 113, 24, 26, 32, 40, 37, 87, 14, 29, 6, 39, 38, 26, 49, 41, 45, 0, 62, 11, 10, 102, 20, 86, 0, 74, 32, 41, 93, 27, 35, 29, 2, 114, 21, 2, 7, 34, 9, 59, 11, 84, 86, 12, 63, 55, 47, 73, 101, 50, 9, 6, 23, 98, 85, 39, 89, 16, 41, 40, 1, 55, 54, 1, 15, 74, 102, 38, 11, 0, 34, 46, 75, 105, 34, 3, 116, 115, 45, 94, 68, 33, 32, 2, 32, 14, 47, 52, 18, 50, 31, 34, 88, 24, 38, 40, 36, 23, 55, 45, 18, 0, 40, 71, 25, 56, 29, 25, 41, 20, 97, 0, 12, 12, 104, 22, 110, 22, 35, 53, 9, 46, 120, 58, 21, 68, 37, 17, 7, 8, 57, 13, 58, 1, 95, 106, 23, 23, 75]\n",
      "[16, 1, 4, 98, 13, 28, 77, 101, 22, 19, 19, 14, 27, 80, 28, 26, 2, 34, 40, 13, 78, 51, 20, 2, 32, 36, 31, 114, 26, 63, 11, 97, 36, 27, 84, 4, 43, 48, 1, 100, 29, 5, 10, 58, 15, 60, 38, 65, 76, 3, 38, 32, 18, 26, 95, 21, 12, 12, 35, 106, 91, 54, 78, 29, 15, 52, 29, 60, 42, 71, 16, 63, 107, 44, 10, 11, 48, 13, 79, 88, 46, 8, 125, 94, 35, 95, 82, 41, 55, 16, 12, 35, 33, 73, 11, 41, 43, 40, 84, 44, 46, 26, 51, 30, 30, 14, 36, 5, 61, 70, 51, 62, 9, 13, 7, 33, 92, 14, 26, 18, 95, 31, 104, 21, 43, 9, 15, 22, 105, 56, 29, 37, 40, 25, 15, 9, 106, 13, 26, 6, 105, 103, 16, 51, 82]\n"
     ]
    }
   ],
   "source": [
    "nnodes = G.number_of_nodes()  # 145\n",
    "out_degrees = [G.out_degree(n) for n in G.nodes()]\n",
    "in_degrees = [G.in_degree(n) for n in G.nodes()]\n",
    "print(out_degrees)\n",
    "print(in_degrees)\n"
   ]
  },
  {
   "attachments": {},
   "cell_type": "markdown",
   "metadata": {},
   "source": [
    "### Compute the in degrees for each node (Interbank assets)"
   ]
  },
  {
   "cell_type": "code",
   "execution_count": 5,
   "metadata": {},
   "outputs": [],
   "source": [
    "in_Degree = pd.DataFrame(G.in_degree(weight='weight'))\n",
    "in_Degree = in_Degree.T\n"
   ]
  },
  {
   "cell_type": "code",
   "execution_count": 6,
   "metadata": {},
   "outputs": [
    {
     "name": "stdout",
     "output_type": "stream",
     "text": [
      "0        538218.69\n",
      "1          7351.70\n",
      "2         39050.70\n",
      "3      85674483.00\n",
      "4        460659.54\n",
      "          ...     \n",
      "140    75172808.00\n",
      "141    71611906.00\n",
      "142      303785.69\n",
      "143     3836714.30\n",
      "144    21025428.60\n",
      "Name: 1, Length: 145, dtype: float64\n"
     ]
    }
   ],
   "source": [
    "print(in_Degree.loc[1])"
   ]
  },
  {
   "attachments": {},
   "cell_type": "markdown",
   "metadata": {},
   "source": [
    "### Compute the out degrees for each node (Interbank Liabilities)"
   ]
  },
  {
   "cell_type": "code",
   "execution_count": 7,
   "metadata": {},
   "outputs": [],
   "source": [
    "out_Degree = pd.DataFrame(G.out_degree(weight='weight'))\n",
    "out_Degree = out_Degree.T\n"
   ]
  },
  {
   "cell_type": "code",
   "execution_count": 8,
   "metadata": {},
   "outputs": [
    {
     "name": "stdout",
     "output_type": "stream",
     "text": [
      "0      0.000000e+00\n",
      "1      2.302500e+04\n",
      "2      2.353800e+04\n",
      "3      1.771697e+08\n",
      "4      1.084775e+06\n",
      "           ...     \n",
      "140    4.305915e+07\n",
      "141    1.015331e+08\n",
      "142    5.896638e+05\n",
      "143    7.209214e+05\n",
      "144    2.440614e+07\n",
      "Name: 1, Length: 145, dtype: float64\n"
     ]
    }
   ],
   "source": [
    "print(out_Degree.loc[1])"
   ]
  },
  {
   "cell_type": "code",
   "execution_count": 9,
   "metadata": {},
   "outputs": [
    {
     "name": "stdout",
     "output_type": "stream",
     "text": [
      "0        465710.0\n",
      "1          4436.7\n",
      "2         13159.0\n",
      "3      16229000.0\n",
      "4        438420.0\n",
      "          ...    \n",
      "140    11382000.0\n",
      "141    14033000.0\n",
      "142      129430.0\n",
      "143      874880.0\n",
      "144    26855000.0\n",
      "Name: 0, Length: 145, dtype: float64\n"
     ]
    }
   ],
   "source": [
    "print(bankEquities.loc[0])"
   ]
  },
  {
   "attachments": {},
   "cell_type": "markdown",
   "metadata": {},
   "source": [
    "### Calculate the external liabilties for each bank"
   ]
  },
  {
   "cell_type": "code",
   "execution_count": 34,
   "metadata": {},
   "outputs": [
    {
     "data": {
      "text/html": [
       "<div>\n",
       "<style scoped>\n",
       "    .dataframe tbody tr th:only-of-type {\n",
       "        vertical-align: middle;\n",
       "    }\n",
       "\n",
       "    .dataframe tbody tr th {\n",
       "        vertical-align: top;\n",
       "    }\n",
       "\n",
       "    .dataframe thead th {\n",
       "        text-align: right;\n",
       "    }\n",
       "</style>\n",
       "<table border=\"1\" class=\"dataframe\">\n",
       "  <thead>\n",
       "    <tr style=\"text-align: right;\">\n",
       "      <th></th>\n",
       "      <th>0</th>\n",
       "      <th>1</th>\n",
       "      <th>2</th>\n",
       "      <th>3</th>\n",
       "      <th>4</th>\n",
       "      <th>5</th>\n",
       "      <th>6</th>\n",
       "      <th>7</th>\n",
       "      <th>8</th>\n",
       "      <th>9</th>\n",
       "      <th>...</th>\n",
       "      <th>135</th>\n",
       "      <th>136</th>\n",
       "      <th>137</th>\n",
       "      <th>138</th>\n",
       "      <th>139</th>\n",
       "      <th>140</th>\n",
       "      <th>141</th>\n",
       "      <th>142</th>\n",
       "      <th>143</th>\n",
       "      <th>144</th>\n",
       "    </tr>\n",
       "  </thead>\n",
       "  <tbody>\n",
       "    <tr>\n",
       "      <th>0</th>\n",
       "      <td>72508.69</td>\n",
       "      <td>-20110.0</td>\n",
       "      <td>2353.7</td>\n",
       "      <td>-107724259.5</td>\n",
       "      <td>-1062535.25</td>\n",
       "      <td>72796.01</td>\n",
       "      <td>-1138286.2</td>\n",
       "      <td>-74175609.0</td>\n",
       "      <td>-327883.9</td>\n",
       "      <td>-800912.24</td>\n",
       "      <td>...</td>\n",
       "      <td>-85934.18</td>\n",
       "      <td>50262299.9</td>\n",
       "      <td>-664190.38</td>\n",
       "      <td>-8629677.76</td>\n",
       "      <td>52537.8</td>\n",
       "      <td>20731655.7</td>\n",
       "      <td>-43954182.0</td>\n",
       "      <td>-415308.06</td>\n",
       "      <td>2240912.88</td>\n",
       "      <td>-30235712.1</td>\n",
       "    </tr>\n",
       "  </tbody>\n",
       "</table>\n",
       "<p>1 rows × 145 columns</p>\n",
       "</div>"
      ],
      "text/plain": [
       "        0        1       2            3           4         5          6    \\\n",
       "0  72508.69 -20110.0  2353.7 -107724259.5 -1062535.25  72796.01 -1138286.2   \n",
       "\n",
       "          7         8          9    ...       135         136        137  \\\n",
       "0 -74175609.0 -327883.9 -800912.24  ... -85934.18  50262299.9 -664190.38   \n",
       "\n",
       "          138      139         140         141        142         143  \\\n",
       "0 -8629677.76  52537.8  20731655.7 -43954182.0 -415308.06  2240912.88   \n",
       "\n",
       "          144  \n",
       "0 -30235712.1  \n",
       "\n",
       "[1 rows x 145 columns]"
      ]
     },
     "execution_count": 34,
     "metadata": {},
     "output_type": "execute_result"
    }
   ],
   "source": [
    "external_liability = pd.DataFrame(index=range(1), columns=range(145))\n",
    "external_liability = external_liability.sub(bankEquities, fill_value=0)\n",
    "external_liability = pd.DataFrame(external_liability.loc[0] + in_Degree.loc[1])\n",
    "external_liability = pd.DataFrame(external_liability[0] - out_Degree.loc[1])\n",
    "#external_liability = external_liability.sub(bankEquities.loc[0], axis=1)\n",
    "external_liability = external_liability.T\n",
    "external_liability"
   ]
  },
  {
   "cell_type": "code",
   "execution_count": 35,
   "metadata": {},
   "outputs": [
    {
     "name": "stdout",
     "output_type": "stream",
     "text": [
      "        0        1       2            3           4         5          6    \\\n",
      "0  72508.69 -20110.0  2353.7 -107724259.5 -1062535.25  72796.01 -1138286.2   \n",
      "\n",
      "          7         8          9    ...       135         136        137  \\\n",
      "0 -74175609.0 -327883.9 -800912.24  ... -85934.18  50262299.9 -664190.38   \n",
      "\n",
      "          138      139         140         141        142         143  \\\n",
      "0 -8629677.76  52537.8  20731655.7 -43954182.0 -415308.06  2240912.88   \n",
      "\n",
      "          144  \n",
      "0 -30235712.1  \n",
      "\n",
      "[1 rows x 145 columns]\n"
     ]
    }
   ],
   "source": [
    "#print the external liability of each bank\n",
    "print(external_liability)\n"
   ]
  },
  {
   "attachments": {},
   "cell_type": "markdown",
   "metadata": {},
   "source": [
    "### Separate banks that are not defaulted and defaulted based on their external liabilities:"
   ]
  },
  {
   "cell_type": "code",
   "execution_count": 36,
   "metadata": {},
   "outputs": [],
   "source": [
    "notdefaulted_external_liability = external_liability[external_liability[:] > 0].dropna(axis=1)\n",
    "defaulted_external_liability = external_liability[external_liability[:] <= 0].dropna(axis=1)\n"
   ]
  },
  {
   "attachments": {},
   "cell_type": "markdown",
   "metadata": {},
   "source": [
    "### Apply the shocks"
   ]
  },
  {
   "cell_type": "code",
   "execution_count": 37,
   "metadata": {},
   "outputs": [],
   "source": [
    "initial_bank_equities = bankEquities.copy() # Save the initial bank equities to calculate the losses later\n",
    "shock = 10000000\n",
    "\n",
    "\n",
    "for i in bankEquities:\n",
    "    bankEquities[i] = bankEquities[i] - shock"
   ]
  },
  {
   "attachments": {},
   "cell_type": "markdown",
   "metadata": {},
   "source": [
    "### Separate non-defaulters and defaulters based on their equities:"
   ]
  },
  {
   "cell_type": "code",
   "execution_count": 38,
   "metadata": {},
   "outputs": [],
   "source": [
    "notdefaulters = bankEquities[bankEquities.iloc[0:] > 0]\n",
    "notdefaulters = notdefaulters.dropna(axis=1)\n",
    "defaulters = bankEquities[bankEquities.iloc[0:] <= 0]\n",
    "defaulters = defaulters.dropna(axis=1)"
   ]
  },
  {
   "attachments": {},
   "cell_type": "markdown",
   "metadata": {},
   "source": [
    "Separate the external assets of non-defaulted and defaulted banks and calculate the ratio of the sum of the external assets of non-defaulted banks to the sum of all banks' external assets. This ratio represents the fraction of the total external assets that remain in the system after accounting for the defaulted banks."
   ]
  },
  {
   "cell_type": "code",
   "execution_count": 39,
   "metadata": {},
   "outputs": [],
   "source": [
    "notdefaulted_external_asset = bank_asset_weighted_network.reindex(notdefaulters.columns, axis=1)\n",
    "defaulter_external_assets = bank_asset_weighted_network.reindex(defaulters.columns, axis=1)\n",
    "ratio = 1 - (defaulter_external_assets.sum(axis=1) / bank_asset_weighted_network.sum(axis=1))"
   ]
  },
  {
   "attachments": {},
   "cell_type": "markdown",
   "metadata": {},
   "source": [
    "### Initialize new dataframes for intermediate calculations and updated values in the Furfine function."
   ]
  },
  {
   "cell_type": "code",
   "execution_count": 40,
   "metadata": {},
   "outputs": [],
   "source": [
    "newBankEquity = pd.DataFrame(index=range(1), columns=range(145))\n",
    "newbanklist = pd.DataFrame(index=range(1), columns=range(145))\n",
    "defaulteroutDegree = pd.DataFrame(index=range(1), columns=range(145))\n",
    "notdefaulted_external_asset = pd.DataFrame(index=range(1), columns=range(145))"
   ]
  },
  {
   "attachments": {},
   "cell_type": "markdown",
   "metadata": {},
   "source": [
    "### Subtract non-defaulted external liabilities, and add non-defaulted external assets"
   ]
  },
  {
   "cell_type": "code",
   "execution_count": 41,
   "metadata": {},
   "outputs": [],
   "source": [
    "newBankEquity = newBankEquity.sub(notdefaulted_external_liability, fill_value=0)\n",
    "newBankEquity = newBankEquity.add(notdefaulted_external_asset, fill_value=0)"
   ]
  },
  {
   "attachments": {},
   "cell_type": "markdown",
   "metadata": {},
   "source": [
    "### Define the furfine function"
   ]
  },
  {
   "cell_type": "code",
   "execution_count": 42,
   "metadata": {},
   "outputs": [],
   "source": [
    "def furfine(defaulters, notdefaulters, newBankEquity, newbanklist, defaulteroutDegree, interbankExposure, out_Degree, recovery_rate):\n",
    "    notdefaulters_inDegree = in_Degree.reindex(notdefaulters.columns, axis=1)\n",
    "    notdefaulters_outDegree = out_Degree.reindex(notdefaulters.columns, axis=1)\n",
    "\n",
    "    for i in defaulters:\n",
    "        sumDebt = sum(interbankExposure.loc[i, 0:])\n",
    "        recovered = sumDebt * recovery_rate\n",
    "        defaulted_bank_exposures = interbankExposure.loc[i, :]\n",
    "        interbankExposure.loc[i, :] = defaulted_bank_exposures * (1 - recovery_rate)\n",
    "        defaulteroutDegree[i] = sumDebt - recovered\n",
    "        \n",
    "        defaulted_bank_assets = bank_asset_weighted_network.loc[i, :]\n",
    "        bank_asset_weighted_network.loc[i, :] = defaulted_bank_assets * (1 - recovery_rate)\n",
    "\n",
    "    newBankEquity = newBankEquity.sub(defaulteroutDegree, fill_value=0)\n",
    "    newBankEquity = pd.DataFrame(\n",
    "        notdefaulters_inDegree.loc[1] + newBankEquity.loc[0])\n",
    "    newBankEquity = pd.DataFrame(\n",
    "        newBankEquity[0] - notdefaulters_outDegree.loc[1]).T\n",
    "    newbanklist = newBankEquity[newBankEquity[:] > 0].dropna(axis=1)\n",
    "\n",
    "    lenDefaulter = len(newBankEquity[newBankEquity[:] <= 0].dropna(axis=1))\n",
    "    if len(defaulters) == lenDefaulter:\n",
    "        return notdefaulters\n",
    "    else:\n",
    "        newBankEquity = newbanklist\n",
    "        defaulters = newBankEquity[newBankEquity[:] <= 0].dropna(axis=0)\n",
    "        notdefaulters = newBankEquity[newBankEquity[:] > 0].dropna(axis=0)\n",
    "        return furfine(defaulters, notdefaulters, newBankEquity, newbanklist, defaulteroutDegree, interbankExposure, out_Degree)\n"
   ]
  },
  {
   "cell_type": "markdown",
   "metadata": {},
   "source": [
    "### Define a recovery rate"
   ]
  },
  {
   "cell_type": "code",
   "execution_count": 43,
   "metadata": {},
   "outputs": [],
   "source": [
    "recovery_rate = 0.5  # 0.5 = 50% recovery rate"
   ]
  },
  {
   "attachments": {},
   "cell_type": "markdown",
   "metadata": {},
   "source": [
    "### Call the furfine function"
   ]
  },
  {
   "cell_type": "code",
   "execution_count": 44,
   "metadata": {},
   "outputs": [
    {
     "name": "stdout",
     "output_type": "stream",
     "text": [
      "         3          7           27         34          39          48   \\\n",
      "0  6229000.0  4267000.0  37698000.0  2562000.0  53616000.0  47097000.0   \n",
      "\n",
      "        53          54          59        60   ...        83          85   \\\n",
      "0  652000.0  24554000.0  53308000.0  804000.0  ...  8116000.0  18605000.0   \n",
      "\n",
      "           98         116         122         128         136        140  \\\n",
      "0  158110000.0  7556000.0  36551000.0  17495000.0  22123000.0  1382000.0   \n",
      "\n",
      "         141         144  \n",
      "0  4033000.0  16855000.0  \n",
      "\n",
      "[1 rows x 24 columns]\n",
      "The number of banks that have not defaulted are: \n",
      "24\n"
     ]
    }
   ],
   "source": [
    "\n",
    "x = furfine(defaulters, notdefaulters, newBankEquity, newbanklist, defaulteroutDegree, interbankExposure, out_Degree, recovery_rate)\n",
    "\n",
    "print(x)\n",
    "\n",
    "#print the number of banks that have not defaulted\n",
    "print(\"The number of banks that have not defaulted are: \")\n",
    "print(len(x.columns))"
   ]
  },
  {
   "attachments": {},
   "cell_type": "markdown",
   "metadata": {},
   "source": [
    "### Caculate the losses"
   ]
  },
  {
   "cell_type": "code",
   "execution_count": 45,
   "metadata": {},
   "outputs": [
    {
     "name": "stdout",
     "output_type": "stream",
     "text": [
      "Initial Bank Equities: \n",
      "        0       1      2           3         4         5          6    \\\n",
      "0  465710.0  4436.7  13159  16229000.0  438420.0  271300.0  7572800.0   \n",
      "\n",
      "          7      8         9    ...    135         136       137       138  \\\n",
      "0  14267000.0  99580  178320.0  ...  32812  32123000.0  699090.0  515310.0   \n",
      "\n",
      "     139         140         141       142       143         144  \n",
      "0  14259  11382000.0  14033000.0  129430.0  874880.0  26855000.0  \n",
      "\n",
      "[1 rows x 145 columns]\n",
      "Final Bank Equities: \n",
      "   0    1    2          3    4    5    6          7    8    9    ...  135  \\\n",
      "0    0    0    0  6229000.0    0    0    0  4267000.0    0    0  ...    0   \n",
      "\n",
      "          136  137  138  139        140        141  142  143         144  \n",
      "0  22123000.0    0    0    0  1382000.0  4033000.0    0    0  16855000.0  \n",
      "\n",
      "[1 rows x 145 columns]\n"
     ]
    }
   ],
   "source": [
    "\n",
    "final_bank_equities = pd.DataFrame(index=range(1), columns=range(145))\n",
    "\n",
    "final_bank_equities.update(x)\n",
    "final_bank_equities.fillna(0, inplace=True)\n",
    "\n",
    "\n",
    "print(\"Initial Bank Equities: \")\n",
    "print(initial_bank_equities)\n",
    "print(\"Final Bank Equities: \")\n",
    "print(final_bank_equities)"
   ]
  },
  {
   "cell_type": "code",
   "execution_count": 47,
   "metadata": {},
   "outputs": [
    {
     "name": "stdout",
     "output_type": "stream",
     "text": [
      "Number of Defaults: 121\n",
      "Percentage Change in Equity Values for Non-Defaults:\n",
      "3     -0.616181\n",
      "7     -0.700918\n",
      "27    -0.209652\n",
      "34    -0.796052\n",
      "39    -0.157193\n",
      "48    -0.175141\n",
      "53    -0.938791\n",
      "54    -0.289402\n",
      "59    -0.157958\n",
      "60    -0.925583\n",
      "72    -0.564111\n",
      "78    -0.585343\n",
      "79    -0.970309\n",
      "82    -0.091617\n",
      "83    -0.551998\n",
      "85    -0.349589\n",
      "98    -0.059485\n",
      "116   -0.569606\n",
      "122   -0.214818\n",
      "128   -0.363702\n",
      "136   -0.311303\n",
      "140   -0.878580\n",
      "141   -0.712606\n",
      "144   -0.372370\n",
      "dtype: float64\n"
     ]
    }
   ],
   "source": [
    "#Compute number of defaults\n",
    "# defaults are the banks with final equity values <= 0\n",
    "defaults = final_bank_equities[final_bank_equities.iloc[0:] <= 0].dropna(axis=1)\n",
    "num_defaults = len(defaults.columns)\n",
    "print(\"Number of Defaults:\", num_defaults)\n",
    "    \n",
    "#Compute contagion effects on other banks\n",
    "non_defaults = final_bank_equities[final_bank_equities.iloc[0:] > 0].dropna(axis=1)\n",
    "pct_change = (non_defaults.sum() - initial_bank_equities[initial_bank_equities > 0].sum()) / initial_bank_equities[initial_bank_equities > 0].sum()\n",
    "print(\"Percentage Change in Equity Values for Non-Defaults:\")\n",
    "print(pct_change[pct_change.dropna().index])"
   ]
  },
  {
   "attachments": {},
   "cell_type": "markdown",
   "metadata": {},
   "source": [
    "### For task 3, we simultaneously consider overlapping portfolios along with counterparty defaults. "
   ]
  },
  {
   "cell_type": "code",
   "execution_count": 48,
   "metadata": {},
   "outputs": [
    {
     "name": "stderr",
     "output_type": "stream",
     "text": [
      "C:\\Users\\sahil\\AppData\\Local\\Temp\\ipykernel_27024\\1594522300.py:23: RuntimeWarning: invalid value encountered in scalar divide\n",
      "  fraction_owned_by_defaulters = (defaulted_assets * (1 - market_impact_parameter * t)) / (total_assets * (1 - market_impact_parameter * t))\n"
     ]
    },
    {
     "name": "stdout",
     "output_type": "stream",
     "text": [
      "Stress test with overlapping portfolios:\n",
      "Number of Defaults: 0\n",
      "Total Losses: -11486846076.0\n",
      "Percentage Change in Equity Values for Non-Defaults:\n",
      "3     -1.013777\n",
      "7     -1.009438\n",
      "27    -1.083380\n",
      "34    -1.005667\n",
      "39    -1.118587\n",
      "48    -1.104168\n",
      "53    -1.001442\n",
      "54    -1.054308\n",
      "59    -1.117906\n",
      "60    -1.001778\n",
      "72    -1.017090\n",
      "78    -1.015668\n",
      "79    -1.000677\n",
      "82    -1.219298\n",
      "83    -1.017951\n",
      "85    -1.041150\n",
      "98    -1.349705\n",
      "116   -1.016712\n",
      "122   -1.080843\n",
      "128   -1.038695\n",
      "136   -1.048931\n",
      "140   -1.003057\n",
      "141   -1.008920\n",
      "144   -1.037280\n",
      "dtype: float64\n"
     ]
    }
   ],
   "source": [
    "# Parameters for stress tests\n",
    "shock_size = 50000000  # $50 million shock size\n",
    "recovery_rate = 0.5  # 50% recovery rate\n",
    "market_impact_parameter = 0.1  # market impact parameter \"a\"\n",
    "\n",
    "# Compute initial external assets\n",
    "initial_external_assets = bank_asset_weighted_network.sum(axis=0)\n",
    "\n",
    "# Compute initial external liabilities\n",
    "initial_external_liabilities = external_liability.sum(axis=0)\n",
    "\n",
    "# Compute initial bank equities\n",
    "initial_bank_equities = bankEquities.sum(axis=0)\n",
    "\n",
    "# Apply shock to a random bank\n",
    "np.random.seed(123)\n",
    "shock_bank = np.random.randint(0, nnodes)\n",
    "\n",
    "# Compute the fraction of assets owned by banks that have defaulted up to time t\n",
    "def compute_fraction_owned_by_defaulters(bank_asset_weighted_network, defaulters, t):\n",
    "    total_assets = bank_asset_weighted_network.sum(axis=1).sum()\n",
    "    defaulted_assets = bank_asset_weighted_network.reindex(defaulters.columns, axis=1).sum().sum()\n",
    "    fraction_owned_by_defaulters = (defaulted_assets * (1 - market_impact_parameter * t)) / (total_assets * (1 - market_impact_parameter * t))\n",
    "    return fraction_owned_by_defaulters\n",
    "\n",
    "# Define linear devaluation function for assets\n",
    "def linear_devaluation_function(asset_price, fraction_owned_by_defaulters):\n",
    "    return asset_price * (1 - market_impact_parameter * fraction_owned_by_defaulters)\n",
    "\n",
    "# Perform stress test with overlapping portfolios\n",
    "bank_asset_weighted_network_shocked = bank_asset_weighted_network.copy()\n",
    "bank_asset_weighted_network_shocked.loc[shock_bank, :] -= shock_size\n",
    "\n",
    "fraction_owned_by_defaulters = pd.Series(0.0, index=range(nnodes))\n",
    "fraction_owned_by_defaulters[shock_bank] = shock_size / bank_asset_weighted_network.sum(axis=1)[shock_bank]\n",
    "\n",
    "for t in range(1, 11):\n",
    "    defaulted_banks = furfine(defaulters, notdefaulters, newBankEquity, newbanklist, defaulteroutDegree, interbankExposure, out_Degree, recovery_rate)\n",
    "    fraction_owned_by_defaulters += compute_fraction_owned_by_defaulters(bank_asset_weighted_network_shocked, defaulted_banks, t)\n",
    "    asset_prices = bank_asset_weighted_network_shocked.sum(axis=0)\n",
    "    asset_prices_devalued = linear_devaluation_function(asset_prices, fraction_owned_by_defaulters)\n",
    "    bank_asset_weighted_network_shocked = bank_asset_weighted_network.multiply(asset_prices_devalued / asset_prices, axis=1)\n",
    "\n",
    "final_bank_equities_shocked = furfine(defaulters, notdefaulters, newBankEquity, newbanklist, defaulteroutDegree, interbankExposure, out_Degree, recovery_rate)\n",
    "\n",
    "# Compute number of defaults and size of losses with overlapping portfolios\n",
    "defaults_shocked = final_bank_equities_shocked[final_bank_equities_shocked.iloc[0:] <= 0].dropna(axis=1)\n",
    "num_defaults_shocked = len(defaults_shocked.columns)\n",
    "losses_shocked = initial_bank_equities.sum() - final_bank_equities_shocked.sum()\n",
    "total_losses_shocked = losses_shocked[losses_shocked < 0].sum()\n",
    "\n",
    "# Compute contagion effects on other banks with overlapping portfolios\n",
    "non_defaults_shocked = final_bank_equities_shocked[final_bank_equities_shocked.iloc[0:] > 0].dropna(axis=1)\n",
    "pct_change_shocked = (non_defaults_shocked.sum() - initial_bank_equities.sum()) / initial_bank_equities.sum()\n",
    "pct_change_shocked.index = bankEquities.columns[bankEquities.columns.isin(pct_change_shocked.index)]\n",
    "\n",
    "print(\"Stress test with overlapping portfolios:\")\n",
    "print(\"Number of Defaults:\", num_defaults_shocked)\n",
    "print(\"Number of non-defaulting banks:\", len(non_defaults_shocked.columns))\n",
    "print(\"Total Losses:\", total_losses_shocked)\n",
    "print(\"Percentage Change in Equity Values for Non-Defaults:\")\n",
    "print(pct_change_shocked)\n",
    "\n",
    "\n"
   ]
  },
  {
   "cell_type": "code",
   "execution_count": 49,
   "metadata": {},
   "outputs": [
    {
     "name": "stdout",
     "output_type": "stream",
     "text": [
      "Number of non-defaulting banks: 24\n"
     ]
    }
   ],
   "source": [
    "print(\"Number of non-defaulting banks:\", len(non_defaults_shocked.columns))"
   ]
  },
  {
   "cell_type": "code",
   "execution_count": null,
   "metadata": {},
   "outputs": [],
   "source": [
    "#print the equities of all the banks\n",
    "print(defaults_shocked)\n"
   ]
  }
 ],
 "metadata": {
  "kernelspec": {
   "display_name": "dsenv",
   "language": "python",
   "name": "python3"
  },
  "language_info": {
   "codemirror_mode": {
    "name": "ipython",
    "version": 3
   },
   "file_extension": ".py",
   "mimetype": "text/x-python",
   "name": "python",
   "nbconvert_exporter": "python",
   "pygments_lexer": "ipython3",
   "version": "3.9.16"
  },
  "orig_nbformat": 4
 },
 "nbformat": 4,
 "nbformat_minor": 2
}
