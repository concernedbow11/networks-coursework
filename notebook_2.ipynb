{
 "cells": [
  {
   "attachments": {},
   "cell_type": "markdown",
   "metadata": {},
   "source": [
    "### Import the necessary libraries"
   ]
  },
  {
   "cell_type": "code",
   "execution_count": 172,
   "metadata": {},
   "outputs": [],
   "source": [
    "import networkx as nx\n",
    "import matplotlib.pyplot as plt\n",
    "import numpy as np\n",
    "import pandas as pd"
   ]
  },
  {
   "attachments": {},
   "cell_type": "markdown",
   "metadata": {},
   "source": [
    "### Load data from the csv files"
   ]
  },
  {
   "cell_type": "code",
   "execution_count": 173,
   "metadata": {},
   "outputs": [],
   "source": [
    "interbankExposure = pd.read_csv('interbankExposures.csv', header=None)\n",
    "bankEquities = pd.read_csv('bankEquities.csv', header=None)\n",
    "bank_asset_weighted_network = pd.read_csv('bankAssetWeightedNetwork.csv', header=None)\n"
   ]
  },
  {
   "attachments": {},
   "cell_type": "markdown",
   "metadata": {},
   "source": [
    "### Create a directed graph from the dataset"
   ]
  },
  {
   "cell_type": "code",
   "execution_count": 174,
   "metadata": {},
   "outputs": [],
   "source": [
    "G = nx.DiGraph(interbankExposure.values)"
   ]
  },
  {
   "attachments": {},
   "cell_type": "markdown",
   "metadata": {},
   "source": [
    "### Calculate the number of nodes in the graph and the in-degree and out-degree of each node"
   ]
  },
  {
   "cell_type": "code",
   "execution_count": 175,
   "metadata": {},
   "outputs": [
    {
     "name": "stdout",
     "output_type": "stream",
     "text": [
      "[0, 1, 1, 119, 32, 20, 60, 113, 24, 26, 32, 40, 37, 87, 14, 29, 6, 39, 38, 26, 49, 41, 45, 0, 62, 11, 10, 102, 20, 86, 0, 74, 32, 41, 93, 27, 35, 29, 2, 114, 21, 2, 7, 34, 9, 59, 11, 84, 86, 12, 63, 55, 47, 73, 101, 50, 9, 6, 23, 98, 85, 39, 89, 16, 41, 40, 1, 55, 54, 1, 15, 74, 102, 38, 11, 0, 34, 46, 75, 105, 34, 3, 116, 115, 45, 94, 68, 33, 32, 2, 32, 14, 47, 52, 18, 50, 31, 34, 88, 24, 38, 40, 36, 23, 55, 45, 18, 0, 40, 71, 25, 56, 29, 25, 41, 20, 97, 0, 12, 12, 104, 22, 110, 22, 35, 53, 9, 46, 120, 58, 21, 68, 37, 17, 7, 8, 57, 13, 58, 1, 95, 106, 23, 23, 75]\n",
      "[16, 1, 4, 98, 13, 28, 77, 101, 22, 19, 19, 14, 27, 80, 28, 26, 2, 34, 40, 13, 78, 51, 20, 2, 32, 36, 31, 114, 26, 63, 11, 97, 36, 27, 84, 4, 43, 48, 1, 100, 29, 5, 10, 58, 15, 60, 38, 65, 76, 3, 38, 32, 18, 26, 95, 21, 12, 12, 35, 106, 91, 54, 78, 29, 15, 52, 29, 60, 42, 71, 16, 63, 107, 44, 10, 11, 48, 13, 79, 88, 46, 8, 125, 94, 35, 95, 82, 41, 55, 16, 12, 35, 33, 73, 11, 41, 43, 40, 84, 44, 46, 26, 51, 30, 30, 14, 36, 5, 61, 70, 51, 62, 9, 13, 7, 33, 92, 14, 26, 18, 95, 31, 104, 21, 43, 9, 15, 22, 105, 56, 29, 37, 40, 25, 15, 9, 106, 13, 26, 6, 105, 103, 16, 51, 82]\n"
     ]
    }
   ],
   "source": [
    "nnodes = G.number_of_nodes()  # 145\n",
    "out_degrees = [G.out_degree(n) for n in G.nodes()]\n",
    "in_degrees = [G.in_degree(n) for n in G.nodes()]\n",
    "print(out_degrees)\n",
    "print(in_degrees)\n"
   ]
  },
  {
   "attachments": {},
   "cell_type": "markdown",
   "metadata": {},
   "source": [
    "### Compute the in degrees for each node (Interbank assets)"
   ]
  },
  {
   "cell_type": "code",
   "execution_count": 176,
   "metadata": {},
   "outputs": [],
   "source": [
    "in_Degree = pd.DataFrame(G.in_degree(weight='weight'))\n",
    "in_Degree = in_Degree.T\n"
   ]
  },
  {
   "attachments": {},
   "cell_type": "markdown",
   "metadata": {},
   "source": [
    "### Compute the out degrees for each node (Interbank Liabilities)"
   ]
  },
  {
   "cell_type": "code",
   "execution_count": 177,
   "metadata": {},
   "outputs": [],
   "source": [
    "out_Degree = pd.DataFrame(G.out_degree(weight='weight'))\n",
    "out_Degree = out_Degree.T\n"
   ]
  },
  {
   "attachments": {},
   "cell_type": "markdown",
   "metadata": {},
   "source": [
    "### Calculate the external liabilties for each bank"
   ]
  },
  {
   "cell_type": "code",
   "execution_count": 178,
   "metadata": {},
   "outputs": [],
   "source": [
    "external_liability = pd.DataFrame(index=range(1), columns=range(145))\n",
    "external_liability = external_liability.add(in_Degree.loc[1], axis=1)\n",
    "external_liability = external_liability.sub(out_Degree.loc[1], axis=1)\n",
    "external_liability = external_liability.sub(bankEquities.loc[0], axis=1)\n",
    "external_liability = external_liability.T"
   ]
  },
  {
   "attachments": {},
   "cell_type": "markdown",
   "metadata": {},
   "source": [
    "### Separate banks that are not defaulted and defaulted based on their external liabilities:"
   ]
  },
  {
   "cell_type": "code",
   "execution_count": 179,
   "metadata": {},
   "outputs": [],
   "source": [
    "notdefaulted_external_liability = external_liability[external_liability[:] > 0].dropna(axis=1)\n",
    "defaulted_external_liability = external_liability[external_liability[:] <= 0].dropna(axis=1)\n"
   ]
  },
  {
   "attachments": {},
   "cell_type": "markdown",
   "metadata": {},
   "source": [
    "### Apply the shocks"
   ]
  },
  {
   "cell_type": "code",
   "execution_count": 180,
   "metadata": {},
   "outputs": [],
   "source": [
    "initial_bank_equities = bankEquities.copy() # Save the initial bank equities to calculate the losses later\n",
    "shock = 10000000\n",
    "\n",
    "# shock_percentage = 90\n",
    "# bankEquities = bankEquities.subtract(bankEquities * (shock_percentage/100))\n",
    "\n",
    "for i in bankEquities:\n",
    "    bankEquities[i] = bankEquities[i] - shock"
   ]
  },
  {
   "attachments": {},
   "cell_type": "markdown",
   "metadata": {},
   "source": [
    "### Separate non-defaulters and defaulters based on their equities:"
   ]
  },
  {
   "cell_type": "code",
   "execution_count": 181,
   "metadata": {},
   "outputs": [],
   "source": [
    "notdefaulters = bankEquities[bankEquities.iloc[0:] > 0]\n",
    "notdefaulters = notdefaulters.dropna(axis=1)\n",
    "defaulters = bankEquities[bankEquities.iloc[0:] <= 0]\n",
    "defaulters = defaulters.dropna(axis=1)"
   ]
  },
  {
   "attachments": {},
   "cell_type": "markdown",
   "metadata": {},
   "source": [
    "Separate the external assets of non-defaulted and defaulted banks and calculate the ratio of the sum of the external assets of non-defaulted banks to the sum of all banks' external assets. This ratio represents the fraction of the total external assets that remain in the system after accounting for the defaulted banks."
   ]
  },
  {
   "cell_type": "code",
   "execution_count": 182,
   "metadata": {},
   "outputs": [],
   "source": [
    "notdefaulted_external_asset = bank_asset_weighted_network.reindex(notdefaulters.columns, axis=1)\n",
    "defaulter_external_assets = bank_asset_weighted_network.reindex(defaulters.columns, axis=1)\n",
    "ratio = 1 - (defaulter_external_assets.sum(axis=1) / bank_asset_weighted_network.sum(axis=1))"
   ]
  },
  {
   "attachments": {},
   "cell_type": "markdown",
   "metadata": {},
   "source": [
    "### Initialize new dataframes for intermediate calculations and updated values in the Furfine function."
   ]
  },
  {
   "cell_type": "code",
   "execution_count": 183,
   "metadata": {},
   "outputs": [],
   "source": [
    "newBankEquity = pd.DataFrame(index=range(1), columns=range(145))\n",
    "newbanklist = pd.DataFrame(index=range(1), columns=range(145))\n",
    "defaulteroutDegree = pd.DataFrame(index=range(1), columns=range(145))\n",
    "notdefaulted_external_asset = pd.DataFrame(index=range(1), columns=range(145))"
   ]
  },
  {
   "attachments": {},
   "cell_type": "markdown",
   "metadata": {},
   "source": [
    "### Subtract non-defaulted external liabilities, and add non-defaulted external assets"
   ]
  },
  {
   "cell_type": "code",
   "execution_count": 184,
   "metadata": {},
   "outputs": [],
   "source": [
    "newBankEquity = newBankEquity.sub(notdefaulted_external_liability, fill_value=0)\n",
    "newBankEquity = newBankEquity.add(notdefaulted_external_asset, fill_value=0)"
   ]
  },
  {
   "attachments": {},
   "cell_type": "markdown",
   "metadata": {},
   "source": [
    "### Define the furfine function"
   ]
  },
  {
   "cell_type": "code",
   "execution_count": 185,
   "metadata": {},
   "outputs": [],
   "source": [
    "def furfine(defaulters, notdefaulters, newBankEquity, newbanklist, defaulteroutDegree, interbankExposure, out_Degree, recovery_rate):\n",
    "    notdefaulters_inDegree = in_Degree.reindex(notdefaulters.columns, axis=1)\n",
    "    notdefaulters_outDegree = out_Degree.reindex(notdefaulters.columns, axis=1)\n",
    "\n",
    "    for i in defaulters:\n",
    "        sumDebt = sum(interbankExposure.loc[i, 0:])\n",
    "        recovered = sumDebt * recovery_rate\n",
    "        defaulted_bank_exposures = interbankExposure.loc[i, :]\n",
    "        interbankExposure.loc[i, :] = defaulted_bank_exposures * (1 - recovery_rate)\n",
    "        defaulteroutDegree[i] = sumDebt - recovered\n",
    "        \n",
    "        defaulted_bank_assets = bank_asset_weighted_network.loc[i, :]\n",
    "        bank_asset_weighted_network.loc[i, :] = defaulted_bank_assets * (1 - recovery_rate)\n",
    "\n",
    "    newBankEquity = newBankEquity.sub(defaulteroutDegree, fill_value=0)\n",
    "    newBankEquity = pd.DataFrame(\n",
    "        notdefaulters_inDegree.loc[1] + newBankEquity.loc[0])\n",
    "    newBankEquity = pd.DataFrame(\n",
    "        newBankEquity[0] - notdefaulters_outDegree.loc[1]).T\n",
    "    newbanklist = newBankEquity[newBankEquity[:] > 0].dropna(axis=1)\n",
    "\n",
    "    lenDefaulter = len(newBankEquity[newBankEquity[:] <= 0].dropna(axis=1))\n",
    "    if len(defaulters) == lenDefaulter:\n",
    "        return notdefaulters\n",
    "    else:\n",
    "        newBankEquity = newbanklist\n",
    "        defaulters = newBankEquity[newBankEquity[:] <= 0].dropna(axis=0)\n",
    "        notdefaulters = newBankEquity[newBankEquity[:] > 0].dropna(axis=0)\n",
    "        return furfine(defaulters, notdefaulters, newBankEquity, newbanklist, defaulteroutDegree, interbankExposure, out_Degree)\n"
   ]
  },
  {
   "cell_type": "markdown",
   "metadata": {},
   "source": [
    "### Define a recovery rate"
   ]
  },
  {
   "cell_type": "code",
   "execution_count": 186,
   "metadata": {},
   "outputs": [],
   "source": [
    "recovery_rate = 0.5  # 0.5 = 50% recovery rate"
   ]
  },
  {
   "attachments": {},
   "cell_type": "markdown",
   "metadata": {},
   "source": [
    "### Call the furfine function"
   ]
  },
  {
   "cell_type": "code",
   "execution_count": 187,
   "metadata": {},
   "outputs": [
    {
     "name": "stdout",
     "output_type": "stream",
     "text": [
      "         3          7           27         34          39          48   \\\n",
      "0  6229000.0  4267000.0  37698000.0  2562000.0  53616000.0  47097000.0   \n",
      "\n",
      "        53          54          59        60   ...        83          85   \\\n",
      "0  652000.0  24554000.0  53308000.0  804000.0  ...  8116000.0  18605000.0   \n",
      "\n",
      "           98         116         122         128         136        140  \\\n",
      "0  158110000.0  7556000.0  36551000.0  17495000.0  22123000.0  1382000.0   \n",
      "\n",
      "         141         144  \n",
      "0  4033000.0  16855000.0  \n",
      "\n",
      "[1 rows x 24 columns]\n",
      "24\n"
     ]
    }
   ],
   "source": [
    "\n",
    "x = furfine(defaulters, notdefaulters, newBankEquity, newbanklist, defaulteroutDegree, interbankExposure, out_Degree, recovery_rate)\n",
    "\n",
    "print(x)\n",
    "\n",
    "#print the number of banks that have not defaulted\n",
    "print(len(x.columns))"
   ]
  },
  {
   "attachments": {},
   "cell_type": "markdown",
   "metadata": {},
   "source": [
    "### Caculate the losses"
   ]
  },
  {
   "cell_type": "code",
   "execution_count": 188,
   "metadata": {},
   "outputs": [
    {
     "name": "stdout",
     "output_type": "stream",
     "text": [
      "Bank Losses:\n",
      "        0       1      2           3         4         5          6    \\\n",
      "0  465710.0  4436.7  13159  10000000.0  438420.0  271300.0  7572800.0   \n",
      "\n",
      "          7      8         9    ...    135         136       137       138  \\\n",
      "0  10000000.0  99580  178320.0  ...  32812  10000000.0  699090.0  515310.0   \n",
      "\n",
      "     139         140         141       142       143         144  \n",
      "0  14259  10000000.0  10000000.0  129430.0  874880.0  10000000.0  \n",
      "\n",
      "[1 rows x 145 columns]\n"
     ]
    }
   ],
   "source": [
    "final_bank_equities = pd.DataFrame(index=range(1), columns=range(145))\n",
    "final_bank_equities.update(x)\n",
    "final_bank_equities.fillna(0, inplace=True)\n",
    "bank_losses = initial_bank_equities - final_bank_equities\n",
    "print(\"Bank Losses:\")\n",
    "print(bank_losses)\n"
   ]
  },
  {
   "attachments": {},
   "cell_type": "markdown",
   "metadata": {},
   "source": [
    "### For task 3, we simultaneously consider overlapping portfolios along with counterparty defaults. "
   ]
  },
  {
   "cell_type": "code",
   "execution_count": null,
   "metadata": {},
   "outputs": [],
   "source": []
  }
 ],
 "metadata": {
  "kernelspec": {
   "display_name": "dsenv",
   "language": "python",
   "name": "python3"
  },
  "language_info": {
   "codemirror_mode": {
    "name": "ipython",
    "version": 3
   },
   "file_extension": ".py",
   "mimetype": "text/x-python",
   "name": "python",
   "nbconvert_exporter": "python",
   "pygments_lexer": "ipython3",
   "version": "3.9.16"
  },
  "orig_nbformat": 4
 },
 "nbformat": 4,
 "nbformat_minor": 2
}
