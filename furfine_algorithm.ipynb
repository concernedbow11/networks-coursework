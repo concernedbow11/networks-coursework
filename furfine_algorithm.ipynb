{
 "cells": [
  {
   "cell_type": "code",
   "execution_count": 5,
   "metadata": {},
   "outputs": [],
   "source": [
    "import networkx as nx\n",
    "import matplotlib.pyplot as plt\n",
    "import numpy as np\n",
    "import pandas as pd\n",
    "\n",
    "\n",
    "interbankExposure = pd.read_csv('interbankExposures.csv', header=None)\n",
    "bankEquities = pd.read_csv('bankEquities.csv', header=None)\n",
    "bankAsset = pd.read_csv('bankAssetWeightedNetwork.csv', header=None)"
   ]
  },
  {
   "attachments": {},
   "cell_type": "markdown",
   "metadata": {},
   "source": [
    "## Calculate the losses due to counterparty default risk:"
   ]
  },
  {
   "cell_type": "code",
   "execution_count": 9,
   "metadata": {},
   "outputs": [],
   "source": [
    "def furfine(interbank_exposure, bank_equities, recovery_rate=1.0):\n",
    "    n_banks = len(bank_equities)\n",
    "    losses = np.zeros(n_banks)\n",
    "    defaulting_banks = []\n",
    "\n",
    "    for i in range(n_banks):\n",
    "        if bank_equities.iloc[i, 0] <= 0:\n",
    "            defaulting_banks.append(i)\n",
    "\n",
    "    while defaulting_banks:\n",
    "        bank = defaulting_banks.pop()\n",
    "        for counterparty, exposure in enumerate(interbank_exposure.iloc[:, bank]):\n",
    "            if exposure > 0 and counterparty not in defaulting_banks:\n",
    "                losses[counterparty] += exposure * (1 - recovery_rate)\n",
    "                bank_equities.iloc[counterparty, 0] -= exposure * (1 - recovery_rate)\n",
    "\n",
    "                if bank_equities.iloc[counterparty, 0] <= 0 and counterparty not in defaulting_banks:\n",
    "                    defaulting_banks.append(counterparty)\n",
    "\n",
    "    return losses\n"
   ]
  },
  {
   "cell_type": "code",
   "execution_count": 11,
   "metadata": {},
   "outputs": [
    {
     "name": "stdout",
     "output_type": "stream",
     "text": [
      "(1, 145)\n",
      "        0       1      2           3         4         5          6    \\\n",
      "0  465710.0  4436.7  13159  16229000.0  438420.0  271300.0  7572800.0   \n",
      "\n",
      "          7      8         9    ...    135         136       137       138  \\\n",
      "0  14267000.0  99580  178320.0  ...  32812  32123000.0  699090.0  515310.0   \n",
      "\n",
      "     139         140         141       142       143         144  \n",
      "0  14259  11382000.0  14033000.0  129430.0  874880.0  26855000.0  \n",
      "\n",
      "[1 rows x 145 columns]\n"
     ]
    }
   ],
   "source": [
    "# print(bankEquities.shape)\n",
    "# print(bankEquities.head())\n"
   ]
  },
  {
   "cell_type": "code",
   "execution_count": 12,
   "metadata": {},
   "outputs": [],
   "source": [
    "bankEquities = bankEquities.transpose()\n"
   ]
  },
  {
   "cell_type": "code",
   "execution_count": 25,
   "metadata": {},
   "outputs": [],
   "source": [
    "shocked_bank_equities = bankEquities.copy()\n",
    "\n",
    "# Apply an initial exogenous shock (e.g., 20% loss) to a specific bank (e.g., bank 5)\n",
    "shocked_bank = 5\n",
    "shock_magnitude = 0.2\n",
    "shocked_bank_equities.iat[shocked_bank, 0] *= (1 - shock_magnitude)\n"
   ]
  },
  {
   "cell_type": "code",
   "execution_count": 14,
   "metadata": {},
   "outputs": [
    {
     "name": "stdout",
     "output_type": "stream",
     "text": [
      "Losses due to counterparty default risk (Furfine algorithm):\n",
      "[0. 0. 0. 0. 0. 0. 0. 0. 0. 0. 0. 0. 0. 0. 0. 0. 0. 0. 0. 0. 0. 0. 0. 0.\n",
      " 0. 0. 0. 0. 0. 0. 0. 0. 0. 0. 0. 0. 0. 0. 0. 0. 0. 0. 0. 0. 0. 0. 0. 0.\n",
      " 0. 0. 0. 0. 0. 0. 0. 0. 0. 0. 0. 0. 0. 0. 0. 0. 0. 0. 0. 0. 0. 0. 0. 0.\n",
      " 0. 0. 0. 0. 0. 0. 0. 0. 0. 0. 0. 0. 0. 0. 0. 0. 0. 0. 0. 0. 0. 0. 0. 0.\n",
      " 0. 0. 0. 0. 0. 0. 0. 0. 0. 0. 0. 0. 0. 0. 0. 0. 0. 0. 0. 0. 0. 0. 0. 0.\n",
      " 0. 0. 0. 0. 0. 0. 0. 0. 0. 0. 0. 0. 0. 0. 0. 0. 0. 0. 0. 0. 0. 0. 0. 0.\n",
      " 0.]\n"
     ]
    }
   ],
   "source": [
    "recovery_rate = 0.5  # Example value for the recovery rate\n",
    "losses = furfine(interbankExposure, shocked_bank_equities, recovery_rate)\n",
    "print(\"Losses due to counterparty default risk (Furfine algorithm):\")\n",
    "print(losses)\n"
   ]
  },
  {
   "attachments": {},
   "cell_type": "markdown",
   "metadata": {},
   "source": [
    "losses appear to be zero, This can happen if the initial exogenous shock is not large enough to cause the affected bank to default, or if there is no significant interbank exposure between the affected bank and other banks in the network."
   ]
  },
  {
   "attachments": {},
   "cell_type": "markdown",
   "metadata": {},
   "source": [
    "check the interbank exposures to see if there are significant exposures"
   ]
  },
  {
   "cell_type": "code",
   "execution_count": 15,
   "metadata": {},
   "outputs": [
    {
     "name": "stdout",
     "output_type": "stream",
     "text": [
      "       0    1    2        3        4         5          6          7    \\\n",
      "0      0.0  0.0  0.0      0.0      0.0       0.0        0.0        0.0   \n",
      "1      0.0  0.0  0.0      0.0      0.0       0.0        0.0        0.0   \n",
      "2      0.0  0.0  0.0      0.0      0.0       0.0        0.0        0.0   \n",
      "3  96450.0  0.0  0.0      0.0  97484.0  149400.0  1192900.0  7327900.0   \n",
      "4      0.0  0.0  0.0  52808.0      0.0       0.0     9576.7        0.0   \n",
      "\n",
      "       8        9    ...  135        136      137       138  139        140  \\\n",
      "0      0.0      0.0  ...  0.0        0.0      0.0       0.0  0.0        0.0   \n",
      "1      0.0      0.0  ...  0.0        0.0      0.0       0.0  0.0        0.0   \n",
      "2      0.0      0.0  ...  0.0        0.0      0.0       0.0  0.0        0.0   \n",
      "3  89233.0  76598.0  ...  0.0  6388900.0  38878.0  107500.0  0.0  5451800.0   \n",
      "4      0.0      0.0  ...  0.0    51289.0      0.0       0.0  0.0    43767.0   \n",
      "\n",
      "         141      142       143        144  \n",
      "0        0.0      0.0       0.0        0.0  \n",
      "1        0.0      0.0       0.0        0.0  \n",
      "2        0.0      0.0       0.0        0.0  \n",
      "3  5357400.0  38829.0  303010.0  1552800.0  \n",
      "4    43009.0      0.0       0.0        0.0  \n",
      "\n",
      "[5 rows x 145 columns]\n"
     ]
    }
   ],
   "source": [
    "print(interbankExposure.head())\n"
   ]
  },
  {
   "attachments": {},
   "cell_type": "markdown",
   "metadata": {},
   "source": [
    "try updating the shocks to see if the losses increase"
   ]
  },
  {
   "cell_type": "code",
   "execution_count": 44,
   "metadata": {},
   "outputs": [],
   "source": [
    "shocked_bank = 5  # Changed this to another bank index\n",
    "shock_magnitude = 1 # Changed this to a larger shock magnitude \n",
    "shocked_bank_equities = bankEquities.copy()\n",
    "shocked_bank_equities.iat[shocked_bank, 0] *= (1 - shock_magnitude)\n"
   ]
  },
  {
   "cell_type": "code",
   "execution_count": null,
   "metadata": {},
   "outputs": [],
   "source": [
    "recovery_rate = 0.4  # Try different recovery rate values\n",
    "losses = furfine(interbankExposure, shocked_bank_equities, recovery_rate)\n",
    "print(\"Losses due to counterparty default risk (Furfine algorithm):\")\n",
    "print(losses)\n"
   ]
  }
 ],
 "metadata": {
  "kernelspec": {
   "display_name": "dsenv",
   "language": "python",
   "name": "python3"
  },
  "language_info": {
   "codemirror_mode": {
    "name": "ipython",
    "version": 3
   },
   "file_extension": ".py",
   "mimetype": "text/x-python",
   "name": "python",
   "nbconvert_exporter": "python",
   "pygments_lexer": "ipython3",
   "version": "3.9.16"
  },
  "orig_nbformat": 4
 },
 "nbformat": 4,
 "nbformat_minor": 2
}
